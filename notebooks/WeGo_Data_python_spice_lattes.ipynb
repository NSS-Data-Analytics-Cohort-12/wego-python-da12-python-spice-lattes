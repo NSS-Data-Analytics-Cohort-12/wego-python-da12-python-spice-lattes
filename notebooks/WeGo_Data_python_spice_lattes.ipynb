{
 "cells": [
  {
   "cell_type": "code",
   "execution_count": 1,
   "id": "a9b262fa-90dd-4480-969c-2ac6f68c1289",
   "metadata": {},
   "outputs": [],
   "source": [
    "import pandas as pd \n",
    "import seaborn as sns\n",
    "import matplotlib.pyplot as plt"
   ]
  },
  {
   "cell_type": "code",
   "execution_count": 2,
   "id": "d2e1c1d1-8d77-4734-a0f5-3f79d48180c9",
   "metadata": {},
   "outputs": [
    {
     "data": {
      "text/html": [
       "<div>\n",
       "<style scoped>\n",
       "    .dataframe tbody tr th:only-of-type {\n",
       "        vertical-align: middle;\n",
       "    }\n",
       "\n",
       "    .dataframe tbody tr th {\n",
       "        vertical-align: top;\n",
       "    }\n",
       "\n",
       "    .dataframe thead th {\n",
       "        text-align: right;\n",
       "    }\n",
       "</style>\n",
       "<table border=\"1\" class=\"dataframe\">\n",
       "  <thead>\n",
       "    <tr style=\"text-align: right;\">\n",
       "      <th></th>\n",
       "      <th>CALENDAR_ID</th>\n",
       "      <th>SERVICE_ABBR</th>\n",
       "      <th>ADHERENCE_ID</th>\n",
       "      <th>DATE</th>\n",
       "      <th>ROUTE_ABBR</th>\n",
       "      <th>BLOCK_ABBR</th>\n",
       "      <th>OPERATOR</th>\n",
       "      <th>TRIP_ID</th>\n",
       "      <th>OVERLOAD_ID</th>\n",
       "      <th>ROUTE_DIRECTION_NAME</th>\n",
       "      <th>...</th>\n",
       "      <th>ACTUAL_HDWY</th>\n",
       "      <th>HDWY_DEV</th>\n",
       "      <th>ADJUSTED_EARLY_COUNT</th>\n",
       "      <th>ADJUSTED_LATE_COUNT</th>\n",
       "      <th>ADJUSTED_ONTIME_COUNT</th>\n",
       "      <th>STOP_CANCELLED</th>\n",
       "      <th>PREV_SCHED_STOP_CANCELLED</th>\n",
       "      <th>IS_RELIEF</th>\n",
       "      <th>DWELL_IN_MINS</th>\n",
       "      <th>SCHEDULED_LAYOVER_MINUTES</th>\n",
       "    </tr>\n",
       "  </thead>\n",
       "  <tbody>\n",
       "    <tr>\n",
       "      <th>0</th>\n",
       "      <td>120230801</td>\n",
       "      <td>1</td>\n",
       "      <td>99457890</td>\n",
       "      <td>8/1/2023</td>\n",
       "      <td>22</td>\n",
       "      <td>2200</td>\n",
       "      <td>1040</td>\n",
       "      <td>345104</td>\n",
       "      <td>0</td>\n",
       "      <td>TO DOWNTOWN</td>\n",
       "      <td>...</td>\n",
       "      <td>NaN</td>\n",
       "      <td>NaN</td>\n",
       "      <td>0</td>\n",
       "      <td>0</td>\n",
       "      <td>1</td>\n",
       "      <td>0</td>\n",
       "      <td>0.0</td>\n",
       "      <td>0</td>\n",
       "      <td>6.500000</td>\n",
       "      <td>NaN</td>\n",
       "    </tr>\n",
       "    <tr>\n",
       "      <th>1</th>\n",
       "      <td>120230801</td>\n",
       "      <td>1</td>\n",
       "      <td>99457891</td>\n",
       "      <td>8/1/2023</td>\n",
       "      <td>22</td>\n",
       "      <td>2200</td>\n",
       "      <td>1040</td>\n",
       "      <td>345104</td>\n",
       "      <td>0</td>\n",
       "      <td>TO DOWNTOWN</td>\n",
       "      <td>...</td>\n",
       "      <td>NaN</td>\n",
       "      <td>NaN</td>\n",
       "      <td>0</td>\n",
       "      <td>0</td>\n",
       "      <td>1</td>\n",
       "      <td>0</td>\n",
       "      <td>0.0</td>\n",
       "      <td>0</td>\n",
       "      <td>0.000000</td>\n",
       "      <td>NaN</td>\n",
       "    </tr>\n",
       "    <tr>\n",
       "      <th>2</th>\n",
       "      <td>120230801</td>\n",
       "      <td>1</td>\n",
       "      <td>99457892</td>\n",
       "      <td>8/1/2023</td>\n",
       "      <td>22</td>\n",
       "      <td>2200</td>\n",
       "      <td>1040</td>\n",
       "      <td>345104</td>\n",
       "      <td>0</td>\n",
       "      <td>TO DOWNTOWN</td>\n",
       "      <td>...</td>\n",
       "      <td>NaN</td>\n",
       "      <td>NaN</td>\n",
       "      <td>0</td>\n",
       "      <td>0</td>\n",
       "      <td>1</td>\n",
       "      <td>0</td>\n",
       "      <td>0.0</td>\n",
       "      <td>0</td>\n",
       "      <td>0.000000</td>\n",
       "      <td>NaN</td>\n",
       "    </tr>\n",
       "    <tr>\n",
       "      <th>3</th>\n",
       "      <td>120230801</td>\n",
       "      <td>1</td>\n",
       "      <td>99457893</td>\n",
       "      <td>8/1/2023</td>\n",
       "      <td>22</td>\n",
       "      <td>2200</td>\n",
       "      <td>1040</td>\n",
       "      <td>345104</td>\n",
       "      <td>0</td>\n",
       "      <td>TO DOWNTOWN</td>\n",
       "      <td>...</td>\n",
       "      <td>NaN</td>\n",
       "      <td>NaN</td>\n",
       "      <td>0</td>\n",
       "      <td>0</td>\n",
       "      <td>1</td>\n",
       "      <td>0</td>\n",
       "      <td>NaN</td>\n",
       "      <td>0</td>\n",
       "      <td>0.000000</td>\n",
       "      <td>NaN</td>\n",
       "    </tr>\n",
       "    <tr>\n",
       "      <th>4</th>\n",
       "      <td>120230801</td>\n",
       "      <td>1</td>\n",
       "      <td>99457894</td>\n",
       "      <td>8/1/2023</td>\n",
       "      <td>22</td>\n",
       "      <td>2200</td>\n",
       "      <td>1040</td>\n",
       "      <td>345105</td>\n",
       "      <td>0</td>\n",
       "      <td>FROM DOWNTOWN</td>\n",
       "      <td>...</td>\n",
       "      <td>NaN</td>\n",
       "      <td>NaN</td>\n",
       "      <td>0</td>\n",
       "      <td>0</td>\n",
       "      <td>1</td>\n",
       "      <td>0</td>\n",
       "      <td>0.0</td>\n",
       "      <td>0</td>\n",
       "      <td>12.866666</td>\n",
       "      <td>5.0</td>\n",
       "    </tr>\n",
       "  </tbody>\n",
       "</table>\n",
       "<p>5 rows × 30 columns</p>\n",
       "</div>"
      ],
      "text/plain": [
       "   CALENDAR_ID  SERVICE_ABBR  ADHERENCE_ID      DATE  ROUTE_ABBR  BLOCK_ABBR  \\\n",
       "0    120230801             1      99457890  8/1/2023          22        2200   \n",
       "1    120230801             1      99457891  8/1/2023          22        2200   \n",
       "2    120230801             1      99457892  8/1/2023          22        2200   \n",
       "3    120230801             1      99457893  8/1/2023          22        2200   \n",
       "4    120230801             1      99457894  8/1/2023          22        2200   \n",
       "\n",
       "   OPERATOR  TRIP_ID  OVERLOAD_ID ROUTE_DIRECTION_NAME  ... ACTUAL_HDWY  \\\n",
       "0      1040   345104            0          TO DOWNTOWN  ...         NaN   \n",
       "1      1040   345104            0          TO DOWNTOWN  ...         NaN   \n",
       "2      1040   345104            0          TO DOWNTOWN  ...         NaN   \n",
       "3      1040   345104            0          TO DOWNTOWN  ...         NaN   \n",
       "4      1040   345105            0        FROM DOWNTOWN  ...         NaN   \n",
       "\n",
       "   HDWY_DEV  ADJUSTED_EARLY_COUNT  ADJUSTED_LATE_COUNT  ADJUSTED_ONTIME_COUNT  \\\n",
       "0       NaN                     0                    0                      1   \n",
       "1       NaN                     0                    0                      1   \n",
       "2       NaN                     0                    0                      1   \n",
       "3       NaN                     0                    0                      1   \n",
       "4       NaN                     0                    0                      1   \n",
       "\n",
       "  STOP_CANCELLED PREV_SCHED_STOP_CANCELLED IS_RELIEF  DWELL_IN_MINS  \\\n",
       "0              0                       0.0         0       6.500000   \n",
       "1              0                       0.0         0       0.000000   \n",
       "2              0                       0.0         0       0.000000   \n",
       "3              0                       NaN         0       0.000000   \n",
       "4              0                       0.0         0      12.866666   \n",
       "\n",
       "   SCHEDULED_LAYOVER_MINUTES  \n",
       "0                        NaN  \n",
       "1                        NaN  \n",
       "2                        NaN  \n",
       "3                        NaN  \n",
       "4                        5.0  \n",
       "\n",
       "[5 rows x 30 columns]"
      ]
     },
     "execution_count": 2,
     "metadata": {},
     "output_type": "execute_result"
    }
   ],
   "source": [
    "wego = pd.read_csv(r\"C:\\Users\\Tiffa\\Documents\\DA12\\projects\\wego-python-da12-python-spice-lattes\\data\\Headway Data, 8-1-2023 to 9-30-2023.csv\")\n",
    "\n",
    "wego.head()"
   ]
  },
  {
   "cell_type": "code",
   "execution_count": 3,
   "id": "d05ab021-3e9f-4c8c-ab0c-a822f41538b6",
   "metadata": {},
   "outputs": [
    {
     "data": {
      "text/plain": [
       "Index(['CALENDAR_ID', 'SERVICE_ABBR', 'ADHERENCE_ID', 'DATE', 'ROUTE_ABBR',\n",
       "       'BLOCK_ABBR', 'OPERATOR', 'TRIP_ID', 'OVERLOAD_ID',\n",
       "       'ROUTE_DIRECTION_NAME', 'TIME_POINT_ABBR', 'ROUTE_STOP_SEQUENCE',\n",
       "       'TRIP_EDGE', 'LATITUDE', 'LONGITUDE', 'SCHEDULED_TIME',\n",
       "       'ACTUAL_ARRIVAL_TIME', 'ACTUAL_DEPARTURE_TIME', 'ADHERENCE',\n",
       "       'SCHEDULED_HDWY', 'ACTUAL_HDWY', 'HDWY_DEV', 'ADJUSTED_EARLY_COUNT',\n",
       "       'ADJUSTED_LATE_COUNT', 'ADJUSTED_ONTIME_COUNT', 'STOP_CANCELLED',\n",
       "       'PREV_SCHED_STOP_CANCELLED', 'IS_RELIEF', 'DWELL_IN_MINS',\n",
       "       'SCHEDULED_LAYOVER_MINUTES'],\n",
       "      dtype='object')"
      ]
     },
     "execution_count": 3,
     "metadata": {},
     "output_type": "execute_result"
    }
   ],
   "source": [
    "wego.columns"
   ]
  },
  {
   "cell_type": "markdown",
   "id": "39e49e16-5dc6-4d52-86eb-4d01d901ae80",
   "metadata": {},
   "source": [
    "4. How much of a factor does the driver have on headway and on-time performance? The driver is indicated by the OPERATOR variable.\n"
   ]
  },
  {
   "cell_type": "code",
   "execution_count": 5,
   "id": "7389ea9e-88ff-4ebc-a911-f51e2cee7c83",
   "metadata": {},
   "outputs": [],
   "source": [
    "wego.dropna(subset=['HDWY_DEV'], inplace=True)"
   ]
  },
  {
   "cell_type": "code",
   "execution_count": 6,
   "id": "5360e58c-8923-43a0-80b2-6beaf43c8e15",
   "metadata": {},
   "outputs": [],
   "source": [
    "driver_performance = wego.groupby('OPERATOR').agg({\n",
    "    'HDWY_DEV': 'mean',\n",
    "    'ADJUSTED_ONTIME_COUNT': 'sum',\n",
    "    'ADJUSTED_EARLY_COUNT': 'sum',\n",
    "    'ADJUSTED_LATE_COUNT': 'sum'\n",
    "}).reset_index()"
   ]
  },
  {
   "cell_type": "code",
   "execution_count": 7,
   "id": "f11dc06e-f5f2-433b-9bce-f77bf0473cb4",
   "metadata": {},
   "outputs": [],
   "source": [
    "\n",
    "# driver_performance = wego.groupby('OPERATOR').agg({\n",
    "#     'HDWY_DEV': mean() ,\n",
    "#     'ADJUSTED_ONTIME_COUNT': 'sum',\n",
    "#     'ADJUSTED_EARLY_COUNT': 'sum',\n",
    "#     'ADJUSTED_LATE_COUNT': 'sum'\n",
    "# }).reset_index()"
   ]
  },
  {
   "cell_type": "code",
   "execution_count": 8,
   "id": "cd0d635a-0bf7-4565-ac2d-14aa995f474f",
   "metadata": {},
   "outputs": [
    {
     "data": {
      "text/html": [
       "<div>\n",
       "<style scoped>\n",
       "    .dataframe tbody tr th:only-of-type {\n",
       "        vertical-align: middle;\n",
       "    }\n",
       "\n",
       "    .dataframe tbody tr th {\n",
       "        vertical-align: top;\n",
       "    }\n",
       "\n",
       "    .dataframe thead th {\n",
       "        text-align: right;\n",
       "    }\n",
       "</style>\n",
       "<table border=\"1\" class=\"dataframe\">\n",
       "  <thead>\n",
       "    <tr style=\"text-align: right;\">\n",
       "      <th></th>\n",
       "      <th>OPERATOR</th>\n",
       "      <th>HDWY_DEV</th>\n",
       "      <th>ADJUSTED_ONTIME_COUNT</th>\n",
       "      <th>ADJUSTED_EARLY_COUNT</th>\n",
       "      <th>ADJUSTED_LATE_COUNT</th>\n",
       "    </tr>\n",
       "  </thead>\n",
       "  <tbody>\n",
       "    <tr>\n",
       "      <th>0</th>\n",
       "      <td>56</td>\n",
       "      <td>-0.250000</td>\n",
       "      <td>2</td>\n",
       "      <td>0</td>\n",
       "      <td>0</td>\n",
       "    </tr>\n",
       "    <tr>\n",
       "      <th>1</th>\n",
       "      <td>235</td>\n",
       "      <td>1.918518</td>\n",
       "      <td>5</td>\n",
       "      <td>1</td>\n",
       "      <td>3</td>\n",
       "    </tr>\n",
       "    <tr>\n",
       "      <th>2</th>\n",
       "      <td>244</td>\n",
       "      <td>-0.037500</td>\n",
       "      <td>16</td>\n",
       "      <td>0</td>\n",
       "      <td>4</td>\n",
       "    </tr>\n",
       "    <tr>\n",
       "      <th>3</th>\n",
       "      <td>301</td>\n",
       "      <td>2.832222</td>\n",
       "      <td>17</td>\n",
       "      <td>1</td>\n",
       "      <td>12</td>\n",
       "    </tr>\n",
       "    <tr>\n",
       "      <th>4</th>\n",
       "      <td>304</td>\n",
       "      <td>1.839552</td>\n",
       "      <td>1788</td>\n",
       "      <td>3</td>\n",
       "      <td>235</td>\n",
       "    </tr>\n",
       "  </tbody>\n",
       "</table>\n",
       "</div>"
      ],
      "text/plain": [
       "   OPERATOR  HDWY_DEV  ADJUSTED_ONTIME_COUNT  ADJUSTED_EARLY_COUNT  \\\n",
       "0        56 -0.250000                      2                     0   \n",
       "1       235  1.918518                      5                     1   \n",
       "2       244 -0.037500                     16                     0   \n",
       "3       301  2.832222                     17                     1   \n",
       "4       304  1.839552                   1788                     3   \n",
       "\n",
       "   ADJUSTED_LATE_COUNT  \n",
       "0                    0  \n",
       "1                    3  \n",
       "2                    4  \n",
       "3                   12  \n",
       "4                  235  "
      ]
     },
     "execution_count": 8,
     "metadata": {},
     "output_type": "execute_result"
    }
   ],
   "source": [
    "driver_performance.head()"
   ]
  },
  {
   "cell_type": "code",
   "execution_count": 9,
   "id": "d612687d-f36a-43a8-9094-b4777d0d890d",
   "metadata": {},
   "outputs": [],
   "source": [
    "\n",
    "driver_performance['Total_Count'] = (\n",
    "    driver_performance['ADJUSTED_ONTIME_COUNT'] + \n",
    "    driver_performance['ADJUSTED_EARLY_COUNT'] + \n",
    "    driver_performance['ADJUSTED_LATE_COUNT']\n",
    ")\n",
    "driver_performance['On_Time_Performance'] = (driver_performance['ADJUSTED_ONTIME_COUNT'] / driver_performance['Total_Count']) * 100"
   ]
  },
  {
   "cell_type": "code",
   "execution_count": 10,
   "id": "52cec79b-b0ad-4e1c-beec-c943e10deb82",
   "metadata": {},
   "outputs": [
    {
     "data": {
      "text/plain": [
       "0       2\n",
       "1       9\n",
       "2      20\n",
       "3      30\n",
       "4    2026\n",
       "Name: Total_Count, dtype: int64"
      ]
     },
     "execution_count": 10,
     "metadata": {},
     "output_type": "execute_result"
    }
   ],
   "source": [
    "driver_performance['Total_Count'].head()"
   ]
  },
  {
   "cell_type": "code",
   "execution_count": 11,
   "id": "34c9da1d-f6f3-41a0-9a16-cdf5fa1bc8c0",
   "metadata": {},
   "outputs": [],
   "source": [
    "df = pd.DataFrame(driver_performance)"
   ]
  },
  {
   "cell_type": "code",
   "execution_count": 12,
   "id": "7f8a96a1-b81a-4036-b6a6-ef39c9df76e8",
   "metadata": {},
   "outputs": [
    {
     "data": {
      "text/html": [
       "<div>\n",
       "<style scoped>\n",
       "    .dataframe tbody tr th:only-of-type {\n",
       "        vertical-align: middle;\n",
       "    }\n",
       "\n",
       "    .dataframe tbody tr th {\n",
       "        vertical-align: top;\n",
       "    }\n",
       "\n",
       "    .dataframe thead th {\n",
       "        text-align: right;\n",
       "    }\n",
       "</style>\n",
       "<table border=\"1\" class=\"dataframe\">\n",
       "  <thead>\n",
       "    <tr style=\"text-align: right;\">\n",
       "      <th></th>\n",
       "      <th>OPERATOR</th>\n",
       "      <th>HDWY_DEV</th>\n",
       "      <th>ADJUSTED_ONTIME_COUNT</th>\n",
       "      <th>ADJUSTED_EARLY_COUNT</th>\n",
       "      <th>ADJUSTED_LATE_COUNT</th>\n",
       "      <th>Total_Count</th>\n",
       "      <th>On_Time_Performance</th>\n",
       "    </tr>\n",
       "  </thead>\n",
       "  <tbody>\n",
       "    <tr>\n",
       "      <th>0</th>\n",
       "      <td>56</td>\n",
       "      <td>-0.250000</td>\n",
       "      <td>2</td>\n",
       "      <td>0</td>\n",
       "      <td>0</td>\n",
       "      <td>2</td>\n",
       "      <td>100.000000</td>\n",
       "    </tr>\n",
       "    <tr>\n",
       "      <th>1</th>\n",
       "      <td>235</td>\n",
       "      <td>1.918518</td>\n",
       "      <td>5</td>\n",
       "      <td>1</td>\n",
       "      <td>3</td>\n",
       "      <td>9</td>\n",
       "      <td>55.555556</td>\n",
       "    </tr>\n",
       "    <tr>\n",
       "      <th>2</th>\n",
       "      <td>244</td>\n",
       "      <td>-0.037500</td>\n",
       "      <td>16</td>\n",
       "      <td>0</td>\n",
       "      <td>4</td>\n",
       "      <td>20</td>\n",
       "      <td>80.000000</td>\n",
       "    </tr>\n",
       "    <tr>\n",
       "      <th>3</th>\n",
       "      <td>301</td>\n",
       "      <td>2.832222</td>\n",
       "      <td>17</td>\n",
       "      <td>1</td>\n",
       "      <td>12</td>\n",
       "      <td>30</td>\n",
       "      <td>56.666667</td>\n",
       "    </tr>\n",
       "    <tr>\n",
       "      <th>4</th>\n",
       "      <td>304</td>\n",
       "      <td>1.839552</td>\n",
       "      <td>1788</td>\n",
       "      <td>3</td>\n",
       "      <td>235</td>\n",
       "      <td>2026</td>\n",
       "      <td>88.252715</td>\n",
       "    </tr>\n",
       "  </tbody>\n",
       "</table>\n",
       "</div>"
      ],
      "text/plain": [
       "   OPERATOR  HDWY_DEV  ADJUSTED_ONTIME_COUNT  ADJUSTED_EARLY_COUNT  \\\n",
       "0        56 -0.250000                      2                     0   \n",
       "1       235  1.918518                      5                     1   \n",
       "2       244 -0.037500                     16                     0   \n",
       "3       301  2.832222                     17                     1   \n",
       "4       304  1.839552                   1788                     3   \n",
       "\n",
       "   ADJUSTED_LATE_COUNT  Total_Count  On_Time_Performance  \n",
       "0                    0            2           100.000000  \n",
       "1                    3            9            55.555556  \n",
       "2                    4           20            80.000000  \n",
       "3                   12           30            56.666667  \n",
       "4                  235         2026            88.252715  "
      ]
     },
     "execution_count": 12,
     "metadata": {},
     "output_type": "execute_result"
    }
   ],
   "source": [
    "df.head()"
   ]
  },
  {
   "cell_type": "code",
   "execution_count": 13,
   "id": "8e6345c7-a346-44da-9d7d-d93919c78c9f",
   "metadata": {},
   "outputs": [
    {
     "data": {
      "text/plain": [
       "334"
      ]
     },
     "execution_count": 13,
     "metadata": {},
     "output_type": "execute_result"
    }
   ],
   "source": [
    "df['OPERATOR'].nunique()"
   ]
  },
  {
   "cell_type": "code",
   "execution_count": 14,
   "id": "a45b3cec-4037-4a80-b52a-c49a97615930",
   "metadata": {},
   "outputs": [
    {
     "name": "stdout",
     "output_type": "stream",
     "text": [
      "     OPERATOR  HDWY_DEV  ADJUSTED_ONTIME_COUNT  ADJUSTED_EARLY_COUNT  \\\n",
      "0          56 -0.250000                      2                     0   \n",
      "1         235  1.918518                      5                     1   \n",
      "2         244 -0.037500                     16                     0   \n",
      "3         301  2.832222                     17                     1   \n",
      "4         304  1.839552                   1788                     3   \n",
      "..        ...       ...                    ...                   ...   \n",
      "329      3149  1.434226                     45                     4   \n",
      "330      3156  0.759347                    174                     0   \n",
      "331      3165  5.553472                      8                     0   \n",
      "332      3166 -2.152299                     26                     0   \n",
      "333      3173  1.342857                     14                     0   \n",
      "\n",
      "     ADJUSTED_LATE_COUNT  Total_Count  On_Time_Performance  \n",
      "0                      0            2           100.000000  \n",
      "1                      3            9            55.555556  \n",
      "2                      4           20            80.000000  \n",
      "3                     12           30            56.666667  \n",
      "4                    235         2026            88.252715  \n",
      "..                   ...          ...                  ...  \n",
      "329                    7           56            80.357143  \n",
      "330                   56          230            75.652174  \n",
      "331                   16           24            33.333333  \n",
      "332                    3           29            89.655172  \n",
      "333                    0           14           100.000000  \n",
      "\n",
      "[334 rows x 7 columns]\n"
     ]
    }
   ],
   "source": [
    "print(df)"
   ]
  },
  {
   "cell_type": "code",
   "execution_count": 15,
   "id": "df894697-4924-4c7d-b6f6-bb09c9bcd73d",
   "metadata": {},
   "outputs": [],
   "source": [
    "driver_performance.columns = driver_performance.columns.str.strip()"
   ]
  },
  {
   "cell_type": "code",
   "execution_count": 16,
   "id": "e8e11ab7-ea15-41d1-9517-2f8b17f66ea6",
   "metadata": {},
   "outputs": [
    {
     "name": "stdout",
     "output_type": "stream",
     "text": [
      "Index(['OPERATOR', 'HDWY_DEV', 'ADJUSTED_ONTIME_COUNT', 'ADJUSTED_EARLY_COUNT',\n",
      "       'ADJUSTED_LATE_COUNT', 'Total_Count', 'On_Time_Performance'],\n",
      "      dtype='object')\n"
     ]
    }
   ],
   "source": [
    "print(driver_performance.columns)"
   ]
  },
  {
   "cell_type": "code",
   "execution_count": 17,
   "id": "d6a222ac-3a36-46f1-b1bc-e6aad7fe35e5",
   "metadata": {},
   "outputs": [
    {
     "data": {
      "image/png": "[encoded data removed]",
      "text/plain": [
       "<Figure size 1000x600 with 1 Axes>"
      ]
     },
     "metadata": {},
     "output_type": "display_data"
    }
   ],
   "source": [
    "plt.figure(figsize=(10, 6))\n",
    "sns.scatterplot(\n",
    "    data= driver_performance,\n",
    "    x='HDWY_DEV',\n",
    "    y='On_Time_Performance',\n",
    "    hue='OPERATOR',\n",
    "    palette='viridis',\n",
    "    size='Total_Count',\n",
    "    sizes=(10, 100),\n",
    "    alpha=0.7\n",
    ")\n",
    "plt.title('Correlation between Headway Deviation and On-Time Performance by Operator')\n",
    "plt.xlabel('Headway Deviation')\n",
    "plt.ylabel('On Time Performance (%)')\n",
    "plt.legend(title='Operator')\n",
    "plt.tight_layout()\n",
    "plt.show()"
   ]
  }
 ],
 "metadata": {
  "kernelspec": {
   "display_name": "Python 3 (ipykernel)",
   "language": "python",
   "name": "python3"
  },
  "language_info": {
   "codemirror_mode": {
    "name": "ipython",
    "version": 3
   },
   "file_extension": ".py",
   "mimetype": "text/x-python",
   "name": "python",
   "nbconvert_exporter": "python",
   "pygments_lexer": "ipython3",
   "version": "3.11.7"
  }
 },
 "nbformat": 4,
 "nbformat_minor": 5
}
